{
 "cells": [
  {
   "cell_type": "markdown",
   "id": "6aaa75bb",
   "metadata": {},
   "source": [
    "# Imputing Missing Data from Breast Cancer Data\n",
    "The breast cancer data set ([Breast Cancer Wisconsin (Original)](http://archive.ics.uci.edu/ml/datasets/Breast+Cancer+Wisconsin+%28Original%29)) from the UCI Machine Learning Repository has missing values.\n",
    "### Data Description\n",
    "\n",
    "1. Sample code number:            id number\n",
    "2. Clump Thickness:               1 - 10\n",
    "3. Uniformity of Cell Size:       1 - 10\n",
    "4. Uniformity of Cell Shape:      1 - 10\n",
    "5. Marginal Adhesion:             1 - 10\n",
    "6. Single Epithelial Cell Size:   1 - 10\n",
    "7. Bare Nuclei:                   1 - 10\n",
    "8. Bland Chromatin:               1 - 10\n",
    "9. Normal Nucleoli:               1 - 10\n",
    "10. Mitoses:                       1 - 10\n",
    "11. Class:                        (2 for benign, 4 for malignant)"
   ]
  },
  {
   "cell_type": "markdown",
   "id": "fcda7489",
   "metadata": {},
   "source": [
    "## Goals\n",
    "1. Test different ways to impute values for missing data\n",
    "2. Asses accuracy and quality of imputation models"
   ]
  },
  {
   "cell_type": "code",
   "execution_count": 1,
   "id": "07afc21b",
   "metadata": {
    "vscode": {
     "languageId": "r"
    }
   },
   "outputs": [],
   "source": [
    "cancer <- read.table('./breast-cancer-wisconsin.data.txt', stringsAsFactors = FALSE, header = FALSE, sep=',')"
   ]
  },
  {
   "cell_type": "code",
   "execution_count": 2,
   "id": "1afa2ee8",
   "metadata": {
    "vscode": {
     "languageId": "r"
    }
   },
   "outputs": [
    {
     "data": {
      "text/html": [
       "<table class=\"dataframe\">\n",
       "<caption>A data.frame: 6 × 11</caption>\n",
       "<thead>\n",
       "\t<tr><th></th><th scope=col>V1</th><th scope=col>V2</th><th scope=col>V3</th><th scope=col>V4</th><th scope=col>V5</th><th scope=col>V6</th><th scope=col>V7</th><th scope=col>V8</th><th scope=col>V9</th><th scope=col>V10</th><th scope=col>V11</th></tr>\n",
       "\t<tr><th></th><th scope=col>&lt;int&gt;</th><th scope=col>&lt;int&gt;</th><th scope=col>&lt;int&gt;</th><th scope=col>&lt;int&gt;</th><th scope=col>&lt;int&gt;</th><th scope=col>&lt;int&gt;</th><th scope=col>&lt;chr&gt;</th><th scope=col>&lt;int&gt;</th><th scope=col>&lt;int&gt;</th><th scope=col>&lt;int&gt;</th><th scope=col>&lt;int&gt;</th></tr>\n",
       "</thead>\n",
       "<tbody>\n",
       "\t<tr><th scope=row>1</th><td>1000025</td><td>5</td><td> 1</td><td> 1</td><td>1</td><td>2</td><td>1 </td><td>3</td><td>1</td><td>1</td><td>2</td></tr>\n",
       "\t<tr><th scope=row>2</th><td>1002945</td><td>5</td><td> 4</td><td> 4</td><td>5</td><td>7</td><td>10</td><td>3</td><td>2</td><td>1</td><td>2</td></tr>\n",
       "\t<tr><th scope=row>3</th><td>1015425</td><td>3</td><td> 1</td><td> 1</td><td>1</td><td>2</td><td>2 </td><td>3</td><td>1</td><td>1</td><td>2</td></tr>\n",
       "\t<tr><th scope=row>4</th><td>1016277</td><td>6</td><td> 8</td><td> 8</td><td>1</td><td>3</td><td>4 </td><td>3</td><td>7</td><td>1</td><td>2</td></tr>\n",
       "\t<tr><th scope=row>5</th><td>1017023</td><td>4</td><td> 1</td><td> 1</td><td>3</td><td>2</td><td>1 </td><td>3</td><td>1</td><td>1</td><td>2</td></tr>\n",
       "\t<tr><th scope=row>6</th><td>1017122</td><td>8</td><td>10</td><td>10</td><td>8</td><td>7</td><td>10</td><td>9</td><td>7</td><td>1</td><td>4</td></tr>\n",
       "</tbody>\n",
       "</table>\n"
      ],
      "text/latex": [
       "A data.frame: 6 × 11\n",
       "\\begin{tabular}{r|lllllllllll}\n",
       "  & V1 & V2 & V3 & V4 & V5 & V6 & V7 & V8 & V9 & V10 & V11\\\\\n",
       "  & <int> & <int> & <int> & <int> & <int> & <int> & <chr> & <int> & <int> & <int> & <int>\\\\\n",
       "\\hline\n",
       "\t1 & 1000025 & 5 &  1 &  1 & 1 & 2 & 1  & 3 & 1 & 1 & 2\\\\\n",
       "\t2 & 1002945 & 5 &  4 &  4 & 5 & 7 & 10 & 3 & 2 & 1 & 2\\\\\n",
       "\t3 & 1015425 & 3 &  1 &  1 & 1 & 2 & 2  & 3 & 1 & 1 & 2\\\\\n",
       "\t4 & 1016277 & 6 &  8 &  8 & 1 & 3 & 4  & 3 & 7 & 1 & 2\\\\\n",
       "\t5 & 1017023 & 4 &  1 &  1 & 3 & 2 & 1  & 3 & 1 & 1 & 2\\\\\n",
       "\t6 & 1017122 & 8 & 10 & 10 & 8 & 7 & 10 & 9 & 7 & 1 & 4\\\\\n",
       "\\end{tabular}\n"
      ],
      "text/markdown": [
       "\n",
       "A data.frame: 6 × 11\n",
       "\n",
       "| <!--/--> | V1 &lt;int&gt; | V2 &lt;int&gt; | V3 &lt;int&gt; | V4 &lt;int&gt; | V5 &lt;int&gt; | V6 &lt;int&gt; | V7 &lt;chr&gt; | V8 &lt;int&gt; | V9 &lt;int&gt; | V10 &lt;int&gt; | V11 &lt;int&gt; |\n",
       "|---|---|---|---|---|---|---|---|---|---|---|---|\n",
       "| 1 | 1000025 | 5 |  1 |  1 | 1 | 2 | 1  | 3 | 1 | 1 | 2 |\n",
       "| 2 | 1002945 | 5 |  4 |  4 | 5 | 7 | 10 | 3 | 2 | 1 | 2 |\n",
       "| 3 | 1015425 | 3 |  1 |  1 | 1 | 2 | 2  | 3 | 1 | 1 | 2 |\n",
       "| 4 | 1016277 | 6 |  8 |  8 | 1 | 3 | 4  | 3 | 7 | 1 | 2 |\n",
       "| 5 | 1017023 | 4 |  1 |  1 | 3 | 2 | 1  | 3 | 1 | 1 | 2 |\n",
       "| 6 | 1017122 | 8 | 10 | 10 | 8 | 7 | 10 | 9 | 7 | 1 | 4 |\n",
       "\n"
      ],
      "text/plain": [
       "  V1      V2 V3 V4 V5 V6 V7 V8 V9 V10 V11\n",
       "1 1000025 5   1  1 1  2  1  3  1  1   2  \n",
       "2 1002945 5   4  4 5  7  10 3  2  1   2  \n",
       "3 1015425 3   1  1 1  2  2  3  1  1   2  \n",
       "4 1016277 6   8  8 1  3  4  3  7  1   2  \n",
       "5 1017023 4   1  1 3  2  1  3  1  1   2  \n",
       "6 1017122 8  10 10 8  7  10 9  7  1   4  "
      ]
     },
     "metadata": {},
     "output_type": "display_data"
    }
   ],
   "source": [
    "head(cancer)"
   ]
  },
  {
   "cell_type": "markdown",
   "id": "bbe1b6f9",
   "metadata": {},
   "source": [
    "## Exploratory Analysis - Finding Our Missing Data\n",
    "* In the summary below, we can see that column V7 is listed as a Character class. Everyother column has quantitiative statistics"
   ]
  },
  {
   "cell_type": "code",
   "execution_count": 3,
   "id": "1729149c",
   "metadata": {
    "vscode": {
     "languageId": "r"
    }
   },
   "outputs": [
    {
     "data": {
      "text/plain": [
       "       V1                 V2               V3               V4        \n",
       " Min.   :   61634   Min.   : 1.000   Min.   : 1.000   Min.   : 1.000  \n",
       " 1st Qu.:  870688   1st Qu.: 2.000   1st Qu.: 1.000   1st Qu.: 1.000  \n",
       " Median : 1171710   Median : 4.000   Median : 1.000   Median : 1.000  \n",
       " Mean   : 1071704   Mean   : 4.418   Mean   : 3.134   Mean   : 3.207  \n",
       " 3rd Qu.: 1238298   3rd Qu.: 6.000   3rd Qu.: 5.000   3rd Qu.: 5.000  \n",
       " Max.   :13454352   Max.   :10.000   Max.   :10.000   Max.   :10.000  \n",
       "       V5               V6              V7                  V8        \n",
       " Min.   : 1.000   Min.   : 1.000   Length:699         Min.   : 1.000  \n",
       " 1st Qu.: 1.000   1st Qu.: 2.000   Class :character   1st Qu.: 2.000  \n",
       " Median : 1.000   Median : 2.000   Mode  :character   Median : 3.000  \n",
       " Mean   : 2.807   Mean   : 3.216                      Mean   : 3.438  \n",
       " 3rd Qu.: 4.000   3rd Qu.: 4.000                      3rd Qu.: 5.000  \n",
       " Max.   :10.000   Max.   :10.000                      Max.   :10.000  \n",
       "       V9              V10              V11      \n",
       " Min.   : 1.000   Min.   : 1.000   Min.   :2.00  \n",
       " 1st Qu.: 1.000   1st Qu.: 1.000   1st Qu.:2.00  \n",
       " Median : 1.000   Median : 1.000   Median :2.00  \n",
       " Mean   : 2.867   Mean   : 1.589   Mean   :2.69  \n",
       " 3rd Qu.: 4.000   3rd Qu.: 1.000   3rd Qu.:4.00  \n",
       " Max.   :10.000   Max.   :10.000   Max.   :4.00  "
      ]
     },
     "metadata": {},
     "output_type": "display_data"
    }
   ],
   "source": [
    "summary(cancer)"
   ]
  },
  {
   "cell_type": "markdown",
   "id": "ffa8e945",
   "metadata": {},
   "source": [
    "#### Looking more into Column V7\n",
    "* The column V7 represents Bare Nuclei (nuclei that is not surrounded by cytoplasm).\n",
    "* The unique function displays all unique values in this particular column.\n",
    "* We can see a '?' as one of the possible values in column V7\n",
    "* This is our missing data"
   ]
  },
  {
   "cell_type": "code",
   "execution_count": 4,
   "id": "4a0fc845",
   "metadata": {
    "vscode": {
     "languageId": "r"
    }
   },
   "outputs": [
    {
     "data": {
      "text/html": [
       "<style>\n",
       ".list-inline {list-style: none; margin:0; padding: 0}\n",
       ".list-inline>li {display: inline-block}\n",
       ".list-inline>li:not(:last-child)::after {content: \"\\00b7\"; padding: 0 .5ex}\n",
       "</style>\n",
       "<ol class=list-inline><li>'1'</li><li>'10'</li><li>'2'</li><li>'4'</li><li>'3'</li><li>'9'</li><li>'7'</li><li>'?'</li><li>'5'</li><li>'8'</li><li>'6'</li></ol>\n"
      ],
      "text/latex": [
       "\\begin{enumerate*}\n",
       "\\item '1'\n",
       "\\item '10'\n",
       "\\item '2'\n",
       "\\item '4'\n",
       "\\item '3'\n",
       "\\item '9'\n",
       "\\item '7'\n",
       "\\item '?'\n",
       "\\item '5'\n",
       "\\item '8'\n",
       "\\item '6'\n",
       "\\end{enumerate*}\n"
      ],
      "text/markdown": [
       "1. '1'\n",
       "2. '10'\n",
       "3. '2'\n",
       "4. '4'\n",
       "5. '3'\n",
       "6. '9'\n",
       "7. '7'\n",
       "8. '?'\n",
       "9. '5'\n",
       "10. '8'\n",
       "11. '6'\n",
       "\n",
       "\n"
      ],
      "text/plain": [
       " [1] \"1\"  \"10\" \"2\"  \"4\"  \"3\"  \"9\"  \"7\"  \"?\"  \"5\"  \"8\"  \"6\" "
      ]
     },
     "metadata": {},
     "output_type": "display_data"
    }
   ],
   "source": [
    "unique(cancer$V7)"
   ]
  },
  {
   "cell_type": "code",
   "execution_count": 5,
   "id": "91af4072",
   "metadata": {
    "vscode": {
     "languageId": "r"
    }
   },
   "outputs": [
    {
     "name": "stdout",
     "output_type": "stream",
     "text": [
      "There are 16 missing values\n",
      "\n",
      "0.02288984 of the data is missing"
     ]
    }
   ],
   "source": [
    "# Counting missing values\n",
    "cat(\"There are\", sum(cancer$V7 == '?'), \"missing values\\n\\n\")\n",
    "# Identifying indicies that have missing values\n",
    "inds <- which(cancer$V7 == '?')\n",
    "cat(length(inds)/nrow(cancer), \"of the data is missing\")"
   ]
  },
  {
   "cell_type": "code",
   "execution_count": 6,
   "id": "ec428e1c",
   "metadata": {
    "vscode": {
     "languageId": "r"
    }
   },
   "outputs": [
    {
     "name": "stdout",
     "output_type": "stream",
     "text": [
      "Proportion of Benign Cancers in Missing data: 0.875 \n",
      "Proportion of Malignant Cancers in Missing data: 0.125 \n",
      "Proportion of Benign Cancers in Cleaned data: 0.6500732 \n",
      "Proportion of Malignant Cancers in Cleaned data: 0.3499268"
     ]
    },
    {
     "data": {
      "image/png": "[encoded data removed]",
      "text/plain": [
       "Plot with title \"Proportions of Benign and Malignant Cancers\""
      ]
     },
     "metadata": {
      "image/png": {
       "height": 420,
       "width": 420
      }
     },
     "output_type": "display_data"
    }
   ],
   "source": [
    "benignMissing = sum(cancer[inds,]$V11 == 2)/length(inds)\n",
    "maligMissing = sum(cancer[inds,]$V11 == 4)/length(inds)\n",
    "benignFullData = sum(cancer[-inds,]$V11 == 2)/(nrow(cancer)-length(inds))\n",
    "maligFullData = sum(cancer[-inds,]$V11 == 4)/(nrow(cancer)-length(inds))\n",
    "proportions <- c(benignMissing, maligMissing, benignFullData, maligFullData)\n",
    "names <- c(\"Proportion of Benign Cancers in Missing data\",\"Proportion of Malignant Cancers in Missing data\",\"Proportion of Benign Cancers in Cleaned data\", \"Proportion of Malignant Cancers in Cleaned data\" )\n",
    "barplot(proportions, \n",
    "       main = \"Proportions of Benign and Malignant Cancers\",\n",
    "       ylab = 'Proportion',\n",
    "        legend = TRUE,\n",
    "       col = cm.colors(4))\n",
    "legend(x = 'topright', legend = names, fill = cm.colors(4))\n",
    "cat(\"Proportion of Benign Cancers in Missing data:\", benignMissing, '\\n')\n",
    "cat(\"Proportion of Malignant Cancers in Missing data:\", maligMissing, '\\n')\n",
    "cat(\"Proportion of Benign Cancers in Cleaned data:\", benignFullData, '\\n')\n",
    "cat(\"Proportion of Malignant Cancers in Cleaned data:\", maligFullData)"
   ]
  },
  {
   "cell_type": "markdown",
   "id": "13bde8e3",
   "metadata": {},
   "source": [
    "* There is a clear difference when considering the proportion of malignant cancers in the missing and clean data.\n",
    "* It seems that there are is a much higher proportion of benign cancers in the missing data than that of the clean data (0.875 vs 0.65)"
   ]
  },
  {
   "cell_type": "markdown",
   "id": "d16fe54a",
   "metadata": {},
   "source": [
    "## Imputation with Mode/Mean"
   ]
  },
  {
   "cell_type": "code",
   "execution_count": 7,
   "id": "86c6acf4",
   "metadata": {
    "vscode": {
     "languageId": "r"
    }
   },
   "outputs": [],
   "source": [
    "Mode <- function(lst) {\n",
    "  uniq <- unique(lst)\n",
    "  uniq[which.max(tabulate(match(lst, uniq)))]\n",
    "}"
   ]
  },
  {
   "cell_type": "code",
   "execution_count": 8,
   "id": "29eaa9c6",
   "metadata": {
    "vscode": {
     "languageId": "r"
    }
   },
   "outputs": [
    {
     "name": "stdout",
     "output_type": "stream",
     "text": [
      "Imputed value (mean) for missing values of the Bare Nuclei Column: 3.544656\n",
      "Imputed value (mode) for missing values of the Bare Nuclei Column: 1"
     ]
    }
   ],
   "source": [
    "mu <- mean(as.numeric(cancer[-inds,]$V7))\n",
    "mode <- Mode(as.numeric(cancer[-inds,]$V7))\n",
    "cat(\"Imputed value (mean) for missing values of the Bare Nuclei Column:\", mu)\n",
    "cat(\"\\nImputed value (mode) for missing values of the Bare Nuclei Column:\", mode)"
   ]
  },
  {
   "cell_type": "markdown",
   "id": "005725cb",
   "metadata": {},
   "source": [
    "## Imputation with Regression"
   ]
  },
  {
   "cell_type": "code",
   "execution_count": 9,
   "id": "ff9b125d",
   "metadata": {
    "vscode": {
     "languageId": "r"
    }
   },
   "outputs": [],
   "source": [
    "cleaned <- cancer[-inds,]\n",
    "cleaned$V7 <- as.numeric(cleaned$V7)"
   ]
  },
  {
   "cell_type": "code",
   "execution_count": 10,
   "id": "d885cda0",
   "metadata": {
    "vscode": {
     "languageId": "r"
    }
   },
   "outputs": [
    {
     "data": {
      "text/plain": [
       "\n",
       "Call:\n",
       "lm(formula = V7 ~ ., data = cleaned)\n",
       "\n",
       "Residuals:\n",
       "    Min      1Q  Median      3Q     Max \n",
       "-7.5771 -0.4427 -0.2088  0.8940  8.6145 \n",
       "\n",
       "Coefficients:\n",
       "              Estimate Std. Error t value Pr(>|t|)    \n",
       "(Intercept) -4.039e+00  3.487e-01 -11.582  < 2e-16 ***\n",
       "V1          -1.656e-07  1.240e-07  -1.335  0.18223    \n",
       "V2           1.825e-02  3.960e-02   0.461  0.64499    \n",
       "V3          -1.594e-01  6.731e-02  -2.369  0.01813 *  \n",
       "V4           1.863e-01  6.548e-02   2.844  0.00459 ** \n",
       "V5           2.194e-01  4.124e-02   5.320 1.42e-07 ***\n",
       "V6           1.872e-02  5.520e-02   0.339  0.73457    \n",
       "V8           1.505e-01  5.327e-02   2.825  0.00487 ** \n",
       "V9          -8.724e-02  3.967e-02  -2.199  0.02821 *  \n",
       "V10         -6.365e-02  5.215e-02  -1.220  0.22272    \n",
       "V11          2.495e+00  1.784e-01  13.990  < 2e-16 ***\n",
       "---\n",
       "Signif. codes:  0 '***' 0.001 '**' 0.01 '*' 0.05 '.' 0.1 ' ' 1\n",
       "\n",
       "Residual standard error: 1.999 on 672 degrees of freedom\n",
       "Multiple R-squared:  0.7035,\tAdjusted R-squared:  0.6991 \n",
       "F-statistic: 159.4 on 10 and 672 DF,  p-value: < 2.2e-16\n"
      ]
     },
     "metadata": {},
     "output_type": "display_data"
    }
   ],
   "source": [
    "lmModel <- lm(V7~., data=cleaned)\n",
    "summary(lmModel)"
   ]
  },
  {
   "cell_type": "markdown",
   "id": "01ced8d7",
   "metadata": {},
   "source": [
    "### Evaluating our Basic Linear Regression Model\n",
    "* R-squared value is .7. \n",
    "* This model could be very overfit\n",
    "* Below, I removed insignificant variables based on the singifiance codes in the summary above"
   ]
  },
  {
   "cell_type": "code",
   "execution_count": 11,
   "id": "cd052485",
   "metadata": {
    "vscode": {
     "languageId": "r"
    }
   },
   "outputs": [
    {
     "name": "stdout",
     "output_type": "stream",
     "text": [
      "Average Predicted Value using Basic Linear Regression Model: 2.251872"
     ]
    },
    {
     "data": {
      "text/html": [
       "<table class=\"dataframe\">\n",
       "<caption>A data.frame: 16 × 1</caption>\n",
       "<thead>\n",
       "\t<tr><th></th><th scope=col>lmPredicted</th></tr>\n",
       "\t<tr><th></th><th scope=col>&lt;dbl&gt;</th></tr>\n",
       "</thead>\n",
       "<tbody>\n",
       "\t<tr><th scope=row>24</th><td>7.191237</td></tr>\n",
       "\t<tr><th scope=row>41</th><td>3.419208</td></tr>\n",
       "\t<tr><th scope=row>140</th><td>1.188951</td></tr>\n",
       "\t<tr><th scope=row>146</th><td>1.579936</td></tr>\n",
       "\t<tr><th scope=row>159</th><td>1.260453</td></tr>\n",
       "\t<tr><th scope=row>165</th><td>1.428797</td></tr>\n",
       "\t<tr><th scope=row>236</th><td>1.943842</td></tr>\n",
       "\t<tr><th scope=row>250</th><td>1.562574</td></tr>\n",
       "\t<tr><th scope=row>276</th><td>1.740990</td></tr>\n",
       "\t<tr><th scope=row>293</th><td>6.432884</td></tr>\n",
       "\t<tr><th scope=row>295</th><td>1.303253</td></tr>\n",
       "\t<tr><th scope=row>298</th><td>1.186205</td></tr>\n",
       "\t<tr><th scope=row>316</th><td>2.083334</td></tr>\n",
       "\t<tr><th scope=row>322</th><td>1.469119</td></tr>\n",
       "\t<tr><th scope=row>412</th><td>1.179806</td></tr>\n",
       "\t<tr><th scope=row>618</th><td>1.059370</td></tr>\n",
       "</tbody>\n",
       "</table>\n"
      ],
      "text/latex": [
       "A data.frame: 16 × 1\n",
       "\\begin{tabular}{r|l}\n",
       "  & lmPredicted\\\\\n",
       "  & <dbl>\\\\\n",
       "\\hline\n",
       "\t24 & 7.191237\\\\\n",
       "\t41 & 3.419208\\\\\n",
       "\t140 & 1.188951\\\\\n",
       "\t146 & 1.579936\\\\\n",
       "\t159 & 1.260453\\\\\n",
       "\t165 & 1.428797\\\\\n",
       "\t236 & 1.943842\\\\\n",
       "\t250 & 1.562574\\\\\n",
       "\t276 & 1.740990\\\\\n",
       "\t293 & 6.432884\\\\\n",
       "\t295 & 1.303253\\\\\n",
       "\t298 & 1.186205\\\\\n",
       "\t316 & 2.083334\\\\\n",
       "\t322 & 1.469119\\\\\n",
       "\t412 & 1.179806\\\\\n",
       "\t618 & 1.059370\\\\\n",
       "\\end{tabular}\n"
      ],
      "text/markdown": [
       "\n",
       "A data.frame: 16 × 1\n",
       "\n",
       "| <!--/--> | lmPredicted &lt;dbl&gt; |\n",
       "|---|---|\n",
       "| 24 | 7.191237 |\n",
       "| 41 | 3.419208 |\n",
       "| 140 | 1.188951 |\n",
       "| 146 | 1.579936 |\n",
       "| 159 | 1.260453 |\n",
       "| 165 | 1.428797 |\n",
       "| 236 | 1.943842 |\n",
       "| 250 | 1.562574 |\n",
       "| 276 | 1.740990 |\n",
       "| 293 | 6.432884 |\n",
       "| 295 | 1.303253 |\n",
       "| 298 | 1.186205 |\n",
       "| 316 | 2.083334 |\n",
       "| 322 | 1.469119 |\n",
       "| 412 | 1.179806 |\n",
       "| 618 | 1.059370 |\n",
       "\n"
      ],
      "text/plain": [
       "    lmPredicted\n",
       "24  7.191237   \n",
       "41  3.419208   \n",
       "140 1.188951   \n",
       "146 1.579936   \n",
       "159 1.260453   \n",
       "165 1.428797   \n",
       "236 1.943842   \n",
       "250 1.562574   \n",
       "276 1.740990   \n",
       "293 6.432884   \n",
       "295 1.303253   \n",
       "298 1.186205   \n",
       "316 2.083334   \n",
       "322 1.469119   \n",
       "412 1.179806   \n",
       "618 1.059370   "
      ]
     },
     "metadata": {},
     "output_type": "display_data"
    }
   ],
   "source": [
    "lmModel1 <- lm(V7~V3+V4+V5+V8+V9+V11, data=cancer[-inds,])\n",
    "lmPredicted <- predict(lmModel, newdata = cancer[inds,])\n",
    "df <- data.frame(lmPredicted)\n",
    "cat(\"Average Predicted Value using Basic Linear Regression Model:\", mean(lmPredicted))\n",
    "df"
   ]
  },
  {
   "cell_type": "markdown",
   "id": "2b9d03cf",
   "metadata": {},
   "source": [
    "* I computed the average of the predicted V7 missing values to be 2.25. This is pretty close to the mean of the whole data set (3.544) \n",
    "* It seems that data in row 24 is a lot different than the others.\n"
   ]
  },
  {
   "cell_type": "markdown",
   "id": "35bcceab",
   "metadata": {},
   "source": [
    "## Implementing Regression Tree for Predictions"
   ]
  },
  {
   "cell_type": "code",
   "execution_count": 12,
   "id": "0cbd1ee9",
   "metadata": {
    "vscode": {
     "languageId": "r"
    }
   },
   "outputs": [],
   "source": [
    "# install.packages('tree')\n",
    "library(tree)\n",
    "set.seed(777)"
   ]
  },
  {
   "cell_type": "code",
   "execution_count": 13,
   "id": "c1137a7d",
   "metadata": {
    "vscode": {
     "languageId": "r"
    }
   },
   "outputs": [
    {
     "data": {
      "text/plain": [
       "\n",
       "Regression tree:\n",
       "tree(formula = V7 ~ ., data = cleaned)\n",
       "Variables actually used in tree construction:\n",
       "[1] \"V11\" \"V3\" \n",
       "Number of terminal nodes:  3 \n",
       "Residual mean deviance:  4.082 = 2776 / 680 \n",
       "Distribution of residuals:\n",
       "   Min. 1st Qu.  Median    Mean 3rd Qu.    Max. \n",
       " -6.628  -0.254  -0.254   0.000   0.746   8.746 "
      ]
     },
     "metadata": {},
     "output_type": "display_data"
    }
   ],
   "source": [
    "treeModel <- tree(V7~., data=cleaned)\n",
    "summary(treeModel)"
   ]
  },
  {
   "cell_type": "markdown",
   "id": "5779cec2",
   "metadata": {},
   "source": [
    "* As seen above, only V11 and V3 were deemed necessary for regression in the tree"
   ]
  },
  {
   "cell_type": "markdown",
   "id": "9fa93950",
   "metadata": {},
   "source": [
    "### Analysis of Regression Tree\n",
    "* Below, the regression tree will determine if the sample is Malignant or Benign (V11 > 3 or V11 < 3) \n",
    "* If the cancer sample is benign (V11 < 3), it will determine if the sample has a Uniformity of Cell Size greater or less than 3.5 (V3 < 3.5 or V3 > 3.5)"
   ]
  },
  {
   "cell_type": "code",
   "execution_count": 14,
   "id": "95293b32",
   "metadata": {
    "vscode": {
     "languageId": "r"
    }
   },
   "outputs": [
    {
     "data": {
      "image/png": "[encoded data removed]",
      "text/plain": [
       "plot without title"
      ]
     },
     "metadata": {
      "image/png": {
       "height": 420,
       "width": 420
      }
     },
     "output_type": "display_data"
    }
   ],
   "source": [
    "plot(treeModel)\n",
    "text(treeModel)"
   ]
  },
  {
   "cell_type": "markdown",
   "id": "529eee3f",
   "metadata": {},
   "source": [
    "### Manually Calculating $R^2$ For Unpruned Tree\n",
    "* $R^2$ is generally a good way to measure how well our model fits our data\n",
    "* We'll follow the general equation below:\n",
    "> $R^2 = 1 = \\frac{\\sum(y_i-\\hat{y}_i)^2}{\\sum(y_i-\\bar{y}_i)^2}$"
   ]
  },
  {
   "cell_type": "code",
   "execution_count": 15,
   "id": "61412767",
   "metadata": {
    "vscode": {
     "languageId": "r"
    }
   },
   "outputs": [],
   "source": [
    "R2Calculate <- function(inputTree){\n",
    "    yHat <- predict(inputTree)\n",
    "    yMean <- mean(cleaned$V7)\n",
    "    y_i <- cleaned$V7\n",
    "    numer <- sum((y_i-yHat)**2)\n",
    "    denom <- sum((y_i-yMean)**2)\n",
    "    r2 <- 1 - (numer/denom)\n",
    "    return (r2)\n",
    "}"
   ]
  },
  {
   "cell_type": "code",
   "execution_count": 16,
   "id": "da27289a",
   "metadata": {
    "vscode": {
     "languageId": "r"
    }
   },
   "outputs": [
    {
     "name": "stdout",
     "output_type": "stream",
     "text": [
      "R-squared value for Unpruned Tree: 0.6934518"
     ]
    }
   ],
   "source": [
    "cat(\"R-squared value for Unpruned Tree:\", R2Calculate(treeModel))"
   ]
  },
  {
   "cell_type": "markdown",
   "id": "8e6de243",
   "metadata": {},
   "source": [
    "* A $R^2$ value of 0.69 is relatively strong"
   ]
  },
  {
   "cell_type": "markdown",
   "id": "442177ca",
   "metadata": {},
   "source": [
    "### Cross-validating and Pruning our Tree\n",
    "* The plot below suggests that our deviance flattens as the terminal nodes goes to 2. \n",
    "* Cross-validation tells us that the 2nd branching isn't really necessary"
   ]
  },
  {
   "cell_type": "code",
   "execution_count": 17,
   "id": "2c5fa6bb",
   "metadata": {
    "vscode": {
     "languageId": "r"
    }
   },
   "outputs": [
    {
     "data": {
      "image/png": "[encoded data removed]",
      "text/plain": [
       "plot without title"
      ]
     },
     "metadata": {
      "image/png": {
       "height": 420,
       "width": 420
      }
     },
     "output_type": "display_data"
    }
   ],
   "source": [
    "cvTree <- cv.tree(treeModel)\n",
    "plot(cvTree$size, cvTree$dev, type = 'b')"
   ]
  },
  {
   "cell_type": "code",
   "execution_count": 18,
   "id": "84eb4660",
   "metadata": {
    "vscode": {
     "languageId": "r"
    }
   },
   "outputs": [],
   "source": [
    "numNodes <- 2\n",
    "prunedTree <- prune.tree(treeModel, best = numNodes)"
   ]
  },
  {
   "cell_type": "code",
   "execution_count": 19,
   "id": "f271c132",
   "metadata": {
    "vscode": {
     "languageId": "r"
    }
   },
   "outputs": [
    {
     "data": {
      "text/plain": [
       "\n",
       "Regression tree:\n",
       "snip.tree(tree = treeModel, nodes = 2L)\n",
       "Variables actually used in tree construction:\n",
       "[1] \"V11\"\n",
       "Number of terminal nodes:  2 \n",
       "Residual mean deviance:  4.297 = 2926 / 681 \n",
       "Distribution of residuals:\n",
       "   Min. 1st Qu.  Median    Mean 3rd Qu.    Max. \n",
       "-6.6280 -0.3468 -0.3468  0.0000  1.3720  8.6530 "
      ]
     },
     "metadata": {},
     "output_type": "display_data"
    }
   ],
   "source": [
    "summary(prunedTree)"
   ]
  },
  {
   "cell_type": "markdown",
   "id": "99a8b9c1",
   "metadata": {},
   "source": [
    "#### Here's our pruned Tree\n",
    "* The tree only determines if the cancer sample is benign or malignant. Based on this, we can determine the missing values in V7"
   ]
  },
  {
   "cell_type": "code",
   "execution_count": 20,
   "id": "c4e61361",
   "metadata": {
    "vscode": {
     "languageId": "r"
    }
   },
   "outputs": [
    {
     "data": {
      "image/png": "[encoded data removed]",
      "text/plain": [
       "plot without title"
      ]
     },
     "metadata": {
      "image/png": {
       "height": 420,
       "width": 420
      }
     },
     "output_type": "display_data"
    }
   ],
   "source": [
    "plot(prunedTree)\n",
    "text(prunedTree)"
   ]
  },
  {
   "cell_type": "code",
   "execution_count": 21,
   "id": "5976de0a",
   "metadata": {
    "vscode": {
     "languageId": "r"
    }
   },
   "outputs": [
    {
     "name": "stdout",
     "output_type": "stream",
     "text": [
      "R-squared value for Unpruned Tree: 0.6768285"
     ]
    }
   ],
   "source": [
    "cat(\"R-squared value for Unpruned Tree:\", R2Calculate(prunedTree))"
   ]
  },
  {
   "cell_type": "markdown",
   "id": "21adbea6",
   "metadata": {},
   "source": [
    "* Our R-squared value for our cross-validated, pruned tree is a bit worse than our unpruned tree.\n",
    "* Let's go ahead and proceed with the unpruned tree"
   ]
  },
  {
   "cell_type": "markdown",
   "id": "dc88d6f5",
   "metadata": {},
   "source": [
    "### Imputing Values from Linear Regression Model and Regression Tree\n",
    "* See that the values are pretty close. \n",
    "* I included the V11 column to make sense of why there are inflated values\n",
    "* It seems that if the cancer is malignantl, the value for V7 is larger"
   ]
  },
  {
   "cell_type": "code",
   "execution_count": 22,
   "id": "32cd6edf",
   "metadata": {
    "vscode": {
     "languageId": "r"
    }
   },
   "outputs": [
    {
     "data": {
      "text/html": [
       "<table class=\"dataframe\">\n",
       "<caption>A data.frame: 16 × 3</caption>\n",
       "<thead>\n",
       "\t<tr><th></th><th scope=col>Linear Regression</th><th scope=col>Regression Tree</th><th scope=col>Benign Or Malignant</th></tr>\n",
       "\t<tr><th></th><th scope=col>&lt;dbl&gt;</th><th scope=col>&lt;dbl&gt;</th><th scope=col>&lt;int&gt;</th></tr>\n",
       "</thead>\n",
       "<tbody>\n",
       "\t<tr><th scope=row>24</th><td>7.191237</td><td>7.627615</td><td>4</td></tr>\n",
       "\t<tr><th scope=row>41</th><td>3.419208</td><td>5.000000</td><td>2</td></tr>\n",
       "\t<tr><th scope=row>140</th><td>1.188951</td><td>1.254042</td><td>2</td></tr>\n",
       "\t<tr><th scope=row>146</th><td>1.579936</td><td>1.254042</td><td>2</td></tr>\n",
       "\t<tr><th scope=row>159</th><td>1.260453</td><td>1.254042</td><td>2</td></tr>\n",
       "\t<tr><th scope=row>165</th><td>1.428797</td><td>1.254042</td><td>2</td></tr>\n",
       "\t<tr><th scope=row>236</th><td>1.943842</td><td>1.254042</td><td>2</td></tr>\n",
       "\t<tr><th scope=row>250</th><td>1.562574</td><td>1.254042</td><td>2</td></tr>\n",
       "\t<tr><th scope=row>276</th><td>1.740990</td><td>1.254042</td><td>2</td></tr>\n",
       "\t<tr><th scope=row>293</th><td>6.432884</td><td>7.627615</td><td>4</td></tr>\n",
       "\t<tr><th scope=row>295</th><td>1.303253</td><td>1.254042</td><td>2</td></tr>\n",
       "\t<tr><th scope=row>298</th><td>1.186205</td><td>5.000000</td><td>2</td></tr>\n",
       "\t<tr><th scope=row>316</th><td>2.083334</td><td>5.000000</td><td>2</td></tr>\n",
       "\t<tr><th scope=row>322</th><td>1.469119</td><td>1.254042</td><td>2</td></tr>\n",
       "\t<tr><th scope=row>412</th><td>1.179806</td><td>1.254042</td><td>2</td></tr>\n",
       "\t<tr><th scope=row>618</th><td>1.059370</td><td>1.254042</td><td>2</td></tr>\n",
       "</tbody>\n",
       "</table>\n"
      ],
      "text/latex": [
       "A data.frame: 16 × 3\n",
       "\\begin{tabular}{r|lll}\n",
       "  & Linear Regression & Regression Tree & Benign Or Malignant\\\\\n",
       "  & <dbl> & <dbl> & <int>\\\\\n",
       "\\hline\n",
       "\t24 & 7.191237 & 7.627615 & 4\\\\\n",
       "\t41 & 3.419208 & 5.000000 & 2\\\\\n",
       "\t140 & 1.188951 & 1.254042 & 2\\\\\n",
       "\t146 & 1.579936 & 1.254042 & 2\\\\\n",
       "\t159 & 1.260453 & 1.254042 & 2\\\\\n",
       "\t165 & 1.428797 & 1.254042 & 2\\\\\n",
       "\t236 & 1.943842 & 1.254042 & 2\\\\\n",
       "\t250 & 1.562574 & 1.254042 & 2\\\\\n",
       "\t276 & 1.740990 & 1.254042 & 2\\\\\n",
       "\t293 & 6.432884 & 7.627615 & 4\\\\\n",
       "\t295 & 1.303253 & 1.254042 & 2\\\\\n",
       "\t298 & 1.186205 & 5.000000 & 2\\\\\n",
       "\t316 & 2.083334 & 5.000000 & 2\\\\\n",
       "\t322 & 1.469119 & 1.254042 & 2\\\\\n",
       "\t412 & 1.179806 & 1.254042 & 2\\\\\n",
       "\t618 & 1.059370 & 1.254042 & 2\\\\\n",
       "\\end{tabular}\n"
      ],
      "text/markdown": [
       "\n",
       "A data.frame: 16 × 3\n",
       "\n",
       "| <!--/--> | Linear Regression &lt;dbl&gt; | Regression Tree &lt;dbl&gt; | Benign Or Malignant &lt;int&gt; |\n",
       "|---|---|---|---|\n",
       "| 24 | 7.191237 | 7.627615 | 4 |\n",
       "| 41 | 3.419208 | 5.000000 | 2 |\n",
       "| 140 | 1.188951 | 1.254042 | 2 |\n",
       "| 146 | 1.579936 | 1.254042 | 2 |\n",
       "| 159 | 1.260453 | 1.254042 | 2 |\n",
       "| 165 | 1.428797 | 1.254042 | 2 |\n",
       "| 236 | 1.943842 | 1.254042 | 2 |\n",
       "| 250 | 1.562574 | 1.254042 | 2 |\n",
       "| 276 | 1.740990 | 1.254042 | 2 |\n",
       "| 293 | 6.432884 | 7.627615 | 4 |\n",
       "| 295 | 1.303253 | 1.254042 | 2 |\n",
       "| 298 | 1.186205 | 5.000000 | 2 |\n",
       "| 316 | 2.083334 | 5.000000 | 2 |\n",
       "| 322 | 1.469119 | 1.254042 | 2 |\n",
       "| 412 | 1.179806 | 1.254042 | 2 |\n",
       "| 618 | 1.059370 | 1.254042 | 2 |\n",
       "\n"
      ],
      "text/plain": [
       "    Linear Regression Regression Tree Benign Or Malignant\n",
       "24  7.191237          7.627615        4                  \n",
       "41  3.419208          5.000000        2                  \n",
       "140 1.188951          1.254042        2                  \n",
       "146 1.579936          1.254042        2                  \n",
       "159 1.260453          1.254042        2                  \n",
       "165 1.428797          1.254042        2                  \n",
       "236 1.943842          1.254042        2                  \n",
       "250 1.562574          1.254042        2                  \n",
       "276 1.740990          1.254042        2                  \n",
       "293 6.432884          7.627615        4                  \n",
       "295 1.303253          1.254042        2                  \n",
       "298 1.186205          5.000000        2                  \n",
       "316 2.083334          5.000000        2                  \n",
       "322 1.469119          1.254042        2                  \n",
       "412 1.179806          1.254042        2                  \n",
       "618 1.059370          1.254042        2                  "
      ]
     },
     "metadata": {},
     "output_type": "display_data"
    }
   ],
   "source": [
    "treeModelPredict <- data.frame(predict(treeModel, newdata = cancer[inds,]))\n",
    "BenignOrMalignant <- cancer[inds,]$V11\n",
    "both <- cbind(df, treeModelPredict, BenignOrMalignant)\n",
    "colnames(both) <- c('Linear Regression', 'Regression Tree', 'Benign Or Malignant')\n",
    "both"
   ]
  },
  {
   "cell_type": "markdown",
   "id": "dea8141e",
   "metadata": {},
   "source": [
    "### Assessing Accuracy of Imputed Values using Linear Regression,  Tree Regression Models, and Imputing via Mean/Mode."
   ]
  },
  {
   "cell_type": "code",
   "execution_count": 23,
   "id": "8be64762",
   "metadata": {
    "vscode": {
     "languageId": "r"
    }
   },
   "outputs": [],
   "source": [
    "# Splitting Data\n",
    "set.seed(777)\n",
    "trainSize <- floor(0.75 * nrow(cleaned))\n",
    "indTrain <- sample(seq_len(nrow(cleaned)), size = trainSize)\n",
    "train <- cleaned[indTrain, ]\n",
    "test <- cleaned[-indTrain, ]"
   ]
  },
  {
   "cell_type": "code",
   "execution_count": 24,
   "id": "1989f898",
   "metadata": {
    "vscode": {
     "languageId": "r"
    }
   },
   "outputs": [],
   "source": [
    "# Training our Models on Training data\n",
    "lmModel1 <- lm(V7~., data=train)\n",
    "treeModel1 <- tree(V7~., data=train)"
   ]
  },
  {
   "cell_type": "code",
   "execution_count": 25,
   "id": "cfaf1d9a",
   "metadata": {
    "vscode": {
     "languageId": "r"
    }
   },
   "outputs": [],
   "source": [
    "# Predicting V7 values in the test data\n",
    "lmPredictedTest <- as.integer(predict(lmModel1, newdata=test))\n",
    "treePredictedTest <- as.integer(predict(treeModel1,newdata=test))"
   ]
  },
  {
   "cell_type": "code",
   "execution_count": 26,
   "id": "95efd275",
   "metadata": {
    "vscode": {
     "languageId": "r"
    }
   },
   "outputs": [
    {
     "name": "stdout",
     "output_type": "stream",
     "text": [
      "Accuracy of linear regression model on test data: 0.5438596\n",
      "Accuracy of tree regression model on test data: 0.6023392\n",
      "Accuracy of imputing using mode test data: 0.5964912\n",
      "Accuracy of imputing using mean model on test data: 0.01754386"
     ]
    }
   ],
   "source": [
    "# Determining accuracy of model when predicting V7 values\n",
    "lmAccuracyVals <- sum(lmPredictedTest == test$V7) / nrow(test)\n",
    "treeAccuracyVals <- sum(treePredictedTest == test$V7) / nrow(test)\n",
    "modeAccuracyVals <- sum(mode == test$V7) / nrow(test)\n",
    "meanAccuracyVals <- sum(as.integer(mu) == test$V7) / nrow(test)\n",
    "cat('Accuracy of linear regression model on test data:', lmAccuracyVals)\n",
    "cat('\\nAccuracy of tree regression model on test data:', treeAccuracyVals)\n",
    "cat('\\nAccuracy of imputing using mode test data:', modeAccuracyVals)\n",
    "cat('\\nAccuracy of imputing using mean model on test data:', meanAccuracyVals)"
   ]
  },
  {
   "cell_type": "markdown",
   "id": "a84c7abe",
   "metadata": {},
   "source": [
    "## Conclusions\n",
    "* Above i've calculated the accuracy values. \n",
    "* The accuracy of the tree regression model on our test data did marginally better than just using the mode to impute column V7 values (0.6023392 vs 0.5964912)\n",
    "* Using the mean performed worst on the data. We see a lot of 1's in the V7 data. (see below for a density plot)\n"
   ]
  },
  {
   "cell_type": "code",
   "execution_count": 27,
   "id": "64a7f3f4",
   "metadata": {
    "vscode": {
     "languageId": "r"
    }
   },
   "outputs": [],
   "source": [
    "library(ggplot2)"
   ]
  },
  {
   "cell_type": "markdown",
   "id": "938e06be",
   "metadata": {},
   "source": [
    "As seen below, we can clearly see that there are a lot of 1's in our V7 data. This is why the mean performed so badly on our test data"
   ]
  },
  {
   "cell_type": "code",
   "execution_count": 28,
   "id": "ab1c5e2a",
   "metadata": {
    "vscode": {
     "languageId": "r"
    }
   },
   "outputs": [
    {
     "data": {
      "image/png": "[encoded data removed]",
      "text/plain": [
       "Plot with title \"Density Plot of Bare Nuclei Values (V7)\""
      ]
     },
     "metadata": {
      "image/png": {
       "height": 420,
       "width": 420
      }
     },
     "output_type": "display_data"
    }
   ],
   "source": [
    "den <- density(cleaned$V7)\n",
    "plot(den, frame=FALSE, col = 'red', main = \"Density Plot of Bare Nuclei Values (V7)\" )"
   ]
  }
 ],
 "metadata": {
  "kernelspec": {
   "display_name": "R",
   "language": "R",
   "name": "ir"
  },
  "language_info": {
   "codemirror_mode": "r",
   "file_extension": ".r",
   "mimetype": "text/x-r-source",
   "name": "R",
   "pygments_lexer": "r",
   "version": "4.1.3"
  }
 },
 "nbformat": 4,
 "nbformat_minor": 5
}
